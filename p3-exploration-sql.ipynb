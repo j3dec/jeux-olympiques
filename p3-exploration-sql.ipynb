{
 "cells": [
  {
   "cell_type": "markdown",
   "metadata": {},
   "source": [
    "# P3. Exploration SQL"
   ]
  },
  {
   "cell_type": "markdown",
   "metadata": {},
   "source": [
    "Le répertoire `/db` contient une base de données SQLite3 `olympics.sqbpro` reprenant les résultats des épreuves des jeux d'été pour une période donnée (cf P1 & P2).\n",
    "\n",
    "On s'intéresse dans le cadre de cette partie P3 à l'exploration via SQL des résultats des JO d'été (table : `summer`)."
   ]
  },
  {
   "cell_type": "markdown",
   "metadata": {},
   "source": [
    "---"
   ]
  },
  {
   "cell_type": "markdown",
   "metadata": {},
   "source": [
    "### Question 1: Qu'est ce que SQL ?"
   ]
  },
  {
   "cell_type": "markdown",
   "metadata": {},
   "source": [
    "Le SQL (Structured Query Language) est un langage permettant de communiquer avec une base de données.\n",
    "Ce langage informatique est notamment très utilisé par les développeurs web pour communiquer avec les données d’un site web ([source](https://sql.sh/))"
   ]
  },
  {
   "cell_type": "markdown",
   "metadata": {},
   "source": [
    "### Question 2: Qu'est ce que SQLite 3 ? Avantages et/ou Inconvénients ?"
   ]
  },
  {
   "cell_type": "markdown",
   "metadata": {},
   "source": [
    "SQLite est un système de gestion de base de données relationnelle. \n",
    "Ce moteur de base de données est connu pour implémenter une grande partie du standard SQL\n",
    "et des propriétés ACID.\n",
    "\n",
    "Cette bibliothèque écrite en C est directement intégrée au programme. \n",
    "Ce système et son code source sont entièrement dans le domaine public \n",
    "ce qui permet à tout à chacun d’utiliser et de participer à l’évolution de ce projet. ([source](https://sql.sh/sgbd/sqlite))\n",
    "\n",
    "SQLite3 présente l'avantage de n'avoir rien à configurer, rien à maintenir ou à administrer. C'est aussi son objectif. En contrepartie, certaines fonctionnalités sont absentes, comme la gestion des utilisateurs ou la possibilité de se connecter à distance à la base (en TCP/IP par exemple). ([source](https://doc.ubuntu-fr.org/sqlite))"
   ]
  },
  {
   "cell_type": "markdown",
   "metadata": {},
   "source": [
    "### Question 3: Donner des exemples d'autres formats de fichier pouvant être utilisé pour fournir des données similaires "
   ]
  },
  {
   "cell_type": "markdown",
   "metadata": {},
   "source": [
    "XML,CSV"
   ]
  },
  {
   "cell_type": "markdown",
   "metadata": {},
   "source": [
    "### Question 4: Quel est le type (texte ou binaire) du fichier base de données SQLite3?"
   ]
  },
  {
   "cell_type": "markdown",
   "metadata": {},
   "source": [
    "Le fichier `olympics.sqbpro` est un fichier texte"
   ]
  },
  {
   "cell_type": "markdown",
   "metadata": {},
   "source": [
    "### Question 5: Donner les caractéristiques de la table `summer` ? "
   ]
  },
  {
   "cell_type": "markdown",
   "metadata": {},
   "source": [
    "La table summer possède 9 champs"
   ]
  },
  {
   "cell_type": "markdown",
   "metadata": {},
   "source": [
    "---\n",
    "### Question 6: Combien d'enregistrements possède la table `summer` ?"
   ]
  },
  {
   "cell_type": "markdown",
   "metadata": {},
   "source": [
    "```sql\n",
    "SELECT COUNT(*) FROM summer\n",
    "```"
   ]
  },
  {
   "cell_type": "markdown",
   "metadata": {},
   "source": [
    "![img](./img/Capture.PNG)"
   ]
  },
  {
   "cell_type": "markdown",
   "metadata": {},
   "source": [
    "### Question 7: Quelle période des JO couvre ce fichier de résultats ?"
   ]
  },
  {
   "cell_type": "markdown",
   "metadata": {},
   "source": [
    "```sql\n",
    "SELECT min(Year), max(Year)\n",
    "FROM summer;\n",
    "```"
   ]
  },
  {
   "cell_type": "markdown",
   "metadata": {},
   "source": [
    "![Q7](./img/QQ7.PNG)"
   ]
  },
  {
   "cell_type": "markdown",
   "metadata": {},
   "source": [
    "### Question 8: Indiquer les années et villes des olympiades ? "
   ]
  },
  {
   "cell_type": "markdown",
   "metadata": {},
   "source": [
    "```sql\n",
    "SELECT  DISTINCT Year, City\n",
    "FROM summer;\n",
    "```"
   ]
  },
  {
   "cell_type": "markdown",
   "metadata": {},
   "source": [
    "![Q8](./img/QQ8.PNG)"
   ]
  },
  {
   "cell_type": "markdown",
   "metadata": {},
   "source": [
    "### Q1. Combien la France a remporté de médailles d’or aux JO de 1984 ? - (Christophe)"
   ]
  },
  {
   "cell_type": "markdown",
   "metadata": {},
   "source": [
    "```sql\n",
    "SELECT count(*)\n",
    "FROM(\n",
    "SELECT DISTINCT Sport, Discipline, Event, Gender\n",
    "FROM summer\n",
    "WHERE Year='1984' AND Country='FRA' AND Medal='Gold'\n",
    "GROUP BY Sport, Discipline,Event,Gender\n",
    ")\n",
    "```"
   ]
  },
  {
   "cell_type": "markdown",
   "metadata": {},
   "source": [
    "![Q1](./img/Q1.PNG)"
   ]
  },
  {
   "cell_type": "markdown",
   "metadata": {},
   "source": [
    "### Q2. Quel pays a le plus d’athlètes ? (Matthias)"
   ]
  },
  {
   "cell_type": "markdown",
   "metadata": {},
   "source": [
    "```sql\n",
    "SELECT Max( pays_max)\n",
    "FROM (SELECT Country, \n",
    "\tCOUNT(DISTINCT Athlete) \n",
    "\tAS pays_max \n",
    "FROM summer GROUP BY Country)\n",
    "```\n",
    "OU\n",
    "```sql\n",
    "SELECT  Country, COUNT(DISTINCT Athlete) as nb_athlete\n",
    "FROM summer \n",
    "GROUP BY Country\n",
    "ORDER BY nb_athlete DESC\n",
    "LIMIT 1\n",
    "```\n"
   ]
  },
  {
   "cell_type": "markdown",
   "metadata": {},
   "source": [
    "![Q2](./img/Q2.PNG)"
   ]
  },
  {
   "cell_type": "markdown",
   "metadata": {},
   "source": [
    "### Q3. En 2012 combien de médailles le Japon a t-il gagné ? (Théo)"
   ]
  },
  {
   "cell_type": "markdown",
   "metadata": {},
   "source": [
    "```sql\n",
    "SELECT Country, COUNT(Medal)\n",
    "FROM summer\n",
    "WHERE Country = \"JPN\" AND Year=\"2012\"\n",
    "```"
   ]
  },
  {
   "cell_type": "markdown",
   "metadata": {},
   "source": [
    "![Q3](./img/Q3.png)"
   ]
  },
  {
   "cell_type": "markdown",
   "metadata": {},
   "source": [
    "### Q4. Dans quels différents sports les Grecs ont-ils gagné des médailles ? - (Corentin L)"
   ]
  },
  {
   "cell_type": "markdown",
   "metadata": {},
   "source": [
    "```sql\n",
    "SELECT DISTINCT Sport\n",
    "FROM summer\n",
    "WHERE Country = \"GRE\"\n",
    "```"
   ]
  },
  {
   "cell_type": "markdown",
   "metadata": {
    "jupyter": {
     "source_hidden": true
    }
   },
   "source": [
    "![Q4](./img/Q4.PNG)"
   ]
  },
  {
   "cell_type": "markdown",
   "metadata": {},
   "source": [
    "### Q5. Quel pays a remporté le plus de médailles d’or ? (Philippe)"
   ]
  },
  {
   "cell_type": "markdown",
   "metadata": {},
   "source": [
    "```sql\n",
    "SELECT Country, count(Medal=\"Gold\") as med\n",
    "FROM summer\n",
    "GROUP BY Country\n",
    "ORDER by med DESC\n",
    "```\n",
    "OU\n",
    "```sql\n",
    "SELECT Country,Max( Medal_max)\n",
    "FROM (select Country, count(Medal) as Medal_max \n",
    "FROM summer\n",
    "WHERE Medal=\"Gold\" Group by Country)\n",
    "```"
   ]
  },
  {
   "cell_type": "markdown",
   "metadata": {},
   "source": [
    "![Q5](./img/Q5.PNG)"
   ]
  },
  {
   "cell_type": "markdown",
   "metadata": {},
   "source": [
    "### Q6. Combien de villes différentes ont accueilli les JO d’été entre 1896 - et 2012 ? (Yoann)"
   ]
  },
  {
   "cell_type": "markdown",
   "metadata": {},
   "source": [
    "```sql\n",
    "SELECT DISTINCT City\n",
    "FROM summer\n",
    "WHERE Year BETWEEN '1896' AND '2012'\n",
    "```"
   ]
  },
  {
   "cell_type": "markdown",
   "metadata": {},
   "source": [
    "![Q6](./img/Q6.PNG)"
   ]
  },
  {
   "cell_type": "markdown",
   "metadata": {},
   "source": [
    "### Q7. Combien de femmes ont obtenu une médaille d’or ? (Lamia)"
   ]
  },
  {
   "cell_type": "markdown",
   "metadata": {},
   "source": [
    "```sql\n",
    "SELECT count(*)\n",
    "FROM summer\n",
    "WHERE Medal = \"Gold\" AND Gender = \"Women\"\n",
    "```"
   ]
  },
  {
   "cell_type": "markdown",
   "metadata": {},
   "source": [
    "![Q7](./img/Q7.PNG)"
   ]
  },
  {
   "cell_type": "markdown",
   "metadata": {},
   "source": [
    "### Q8. Combien de sports différents sont représentés par année ? (joris)\n"
   ]
  },
  {
   "cell_type": "markdown",
   "metadata": {},
   "source": [
    "```sql\n",
    "SELECT Year, count(DISTINCT Sport)\n",
    "FROM summer\n",
    "GROUP BY Year\n",
    "ORDER BY Year DESC\n",
    "```"
   ]
  },
  {
   "cell_type": "markdown",
   "metadata": {},
   "source": [
    "![Q8](./img/Q8.PNG)"
   ]
  },
  {
   "cell_type": "markdown",
   "metadata": {},
   "source": [
    "### Q9. Combien de fois Londres a accueilli les J.O ? (Marvin)\n"
   ]
  },
  {
   "cell_type": "markdown",
   "metadata": {},
   "source": [
    "```sql\n",
    "SELECT City, count(DISTINCT Year)\n",
    "FROM summer\n",
    "WHERE City=\"London\"\n",
    "```"
   ]
  },
  {
   "cell_type": "markdown",
   "metadata": {},
   "source": [
    "![Q9](./img/Q9.PNG)"
   ]
  },
  {
   "cell_type": "markdown",
   "metadata": {},
   "source": [
    "### Q10. Combien de joueuses comptait la sélection brésilienne de volley-ball - médaillée d’or aux J.O de 2012 ? (Corentin P)\n"
   ]
  },
  {
   "cell_type": "markdown",
   "metadata": {},
   "source": [
    "```sql\n",
    "SELECT count(*)\n",
    "FROM summer\n",
    "WHERE Country=\"BRA\" AND Gender=\"Women\" AND Discipline=\"Volleyball\" AND Year=\"2012\"\n",
    "```"
   ]
  },
  {
   "cell_type": "markdown",
   "metadata": {},
   "source": [
    "![Q10](./img/Q10.PNG)"
   ]
  },
  {
   "cell_type": "markdown",
   "metadata": {},
   "source": [
    "### Q11. Combien de femmes françaises ont participé en 2012 , quel sont leurs - médailles ? (izak)\n"
   ]
  },
  {
   "cell_type": "markdown",
   "metadata": {},
   "source": [
    "```sql\n",
    "SELECT DISTINCT Athlete, Medal\n",
    "FROM summer\n",
    "WHERE Country=\"FRA\" AND Gender=\"Women\" AND Year=\"2012\"\n",
    "```"
   ]
  },
  {
   "cell_type": "markdown",
   "metadata": {},
   "source": [
    "![Q11](./img/Q11.PNG)"
   ]
  },
  {
   "cell_type": "markdown",
   "metadata": {},
   "source": [
    "### Q12. Quel est l’athlète qui a remporté le plus de médailles d’or ? - (mayel)\n"
   ]
  },
  {
   "cell_type": "markdown",
   "metadata": {},
   "source": [
    "```sql\n",
    "SELECT Athlete, Max(medal_max)\n",
    "FROM (SELECT Athlete, count(Medal) as medal_max\n",
    "FROM summer WHERE Medal=\"Gold\" GROUP BY Athlete)\n",
    "```"
   ]
  },
  {
   "cell_type": "markdown",
   "metadata": {},
   "source": [
    "![Q12](./img/Q12.PNG)"
   ]
  },
  {
   "cell_type": "markdown",
   "metadata": {},
   "source": [
    "### Q13. Est-ce que la France à déjà gagné une médaille d’or au cricket ? - (jordan)\n"
   ]
  },
  {
   "cell_type": "markdown",
   "metadata": {},
   "source": [
    "```sql\n",
    "SELECT count(Medal)\n",
    "FROM summer\n",
    "WHERE Country=\"FRA\" and Sport=\"Cricket\" and Medal=\"Gold\"\n",
    "```"
   ]
  },
  {
   "cell_type": "markdown",
   "metadata": {},
   "source": [
    "![Q13](./img/Q13.PNG)"
   ]
  },
  {
   "cell_type": "markdown",
   "metadata": {},
   "source": [
    "### Q14. Combien de médaillés ont un nom de famille de plus de 6 lettres en - excluant les années paires ? (jonathan)\n"
   ]
  },
  {
   "cell_type": "markdown",
   "metadata": {},
   "source": [
    "Résultat : 0\n",
    "Pas d'années impaire pour les JO"
   ]
  },
  {
   "cell_type": "markdown",
   "metadata": {},
   "source": [
    "![Q14](./img/Q14.PNG)"
   ]
  },
  {
   "cell_type": "markdown",
   "metadata": {},
   "source": [
    "### Q15. Le nombre de médailles d’or par pays en 2012 (Maëlle)\n"
   ]
  },
  {
   "cell_type": "markdown",
   "metadata": {},
   "source": [
    "```sql\n",
    "SELECT Country, Year, count(Medal)\n",
    "FROM summer\n",
    "WHERE Year='2012' AND Medal='Gold'\n",
    "GROUP BY Country\n",
    "```"
   ]
  },
  {
   "cell_type": "markdown",
   "metadata": {},
   "source": [
    "![Q15](./img/Q15.PNG)"
   ]
  },
  {
   "cell_type": "markdown",
   "metadata": {},
   "source": [
    "### Q16. Combien de femmes ont remporté des médailles ? (Alicia)\n"
   ]
  },
  {
   "cell_type": "markdown",
   "metadata": {},
   "source": [
    "```sql\n",
    "SELECT count(DISTINCT Athlete)\n",
    "FROM summer\n",
    "WHERE Gender='Women'\n",
    "```"
   ]
  },
  {
   "cell_type": "markdown",
   "metadata": {},
   "source": [
    "![Q16](./img/Q16.PNG)"
   ]
  },
  {
   "cell_type": "markdown",
   "metadata": {},
   "source": [
    "### Q17. Entre 1984 et 2012 combien de médailles a gagné la France ? (Abire)"
   ]
  },
  {
   "cell_type": "markdown",
   "metadata": {},
   "source": [
    "```sql\n",
    "SELECT Country, count(Medal)\n",
    "FROM summer\n",
    "WHERE Country='FRA' AND Year BETWEEN '1984' AND '2012'  \n",
    "```"
   ]
  },
  {
   "cell_type": "markdown",
   "metadata": {},
   "source": [
    "![Q17](./img/Q17.PNG)"
   ]
  },
  {
   "cell_type": "markdown",
   "metadata": {},
   "source": [
    "--- "
   ]
  },
  {
   "cell_type": "markdown",
   "metadata": {},
   "source": [
    "Fin"
   ]
  }
 ],
 "metadata": {
  "kernelspec": {
   "display_name": "Python 3",
   "language": "python",
   "name": "python3"
  },
  "language_info": {
   "codemirror_mode": {
    "name": "ipython",
    "version": 3
   },
   "file_extension": ".py",
   "mimetype": "text/x-python",
   "name": "python",
   "nbconvert_exporter": "python",
   "pygments_lexer": "ipython3",
   "version": "3.8.6"
  }
 },
 "nbformat": 4,
 "nbformat_minor": 4
}
